{

  "nbformat": 4,
  "nbformat_minor": 0,
  "metadata": {
    "colab": {
      "private_outputs": true,
      "provenance": []
    },
    "kernelspec": {
      "name": "python3",
      "display_name": "Python 3"
    },
    "language_info": {
      "name": "python"
    }
  },
  "cells": [
    {
      "cell_type": "code",
      "source": [
        "import pandas as pd\n",
        "\n",
        "# Adjust path if using Drive mount\n",
        "DATA_PATH = '/content/Sleep_health_and_lifestyle_dataset.csv'\n",
        "\n",
        "df = pd.read_csv(DATA_PATH)\n",
        "print(\"Shape:\", df.shape)\n",
        "df.head()\n"
      ],
      "metadata": {
        "id": "AfjxGUGW2rCk"
      },
      "execution_count": null,
      "outputs": []
    },
    {
      "cell_type": "code",
      "source": [
        "import os\n",
        "import pandas as pd\n",
        "import numpy as np\n",
        "import matplotlib.pyplot as plt\n",
        "import joblib\n",
        "\n",
        "from sklearn.model_selection import train_test_split, GridSearchCV, validation_curve\n",
        "from sklearn.pipeline import Pipeline\n",
        "from sklearn.compose import ColumnTransformer\n",
        "from sklearn.preprocessing import OneHotEncoder, StandardScaler, LabelEncoder\n",
        "from sklearn.feature_selection import SelectKBest, f_classif\n",
        "from sklearn.linear_model import LogisticRegression\n",
        "from sklearn.neighbors import KNeighborsClassifier\n",
        "from sklearn.svm import SVC\n",
        "from sklearn.tree import DecisionTreeClassifier\n",
        "from sklearn.metrics import accuracy_score, confusion_matrix, classification_report\n",
        "\n",
        "# 1) Load & clean\n",
        "df = pd.read_csv(DATA_PATH)\n",
        "df.drop('Person ID', axis=1, inplace=True, errors='ignore')\n",
        "df['Sleep Disorder'] = df['Sleep Disorder'].fillna('None')\n",
        "\n",
        "df.dropna(subset=['Age','Blood Pressure','BMI Category'], inplace=True)\n",
        "bp = df['Blood Pressure'].str.split('/', expand=True).astype(int)\n",
        "df['systolic_bp'], df['diastolic_bp'] = bp[0], bp[1]\n",
        "df.drop('Blood Pressure', axis=1, inplace=True)\n",
        "df['BMI Category'] = df['BMI Category'].str.replace('Weight','').str.strip()\n",
        "\n",
        "# 2) Prep features & target\n",
        "X = df.drop('Sleep Disorder', axis=1)\n",
        "y = LabelEncoder().fit_transform(df['Sleep Disorder'])\n",
        "numeric_feats = ['Age','systolic_bp','diastolic_bp']\n",
        "categorical_feats = [c for c in X.columns if c not in numeric_feats]\n",
        "preprocessor = ColumnTransformer([\n",
        "    ('num', Pipeline([('scaler', StandardScaler())]), numeric_feats),\n",
        "    ('cat', Pipeline([('onehot', OneHotEncoder(handle_unknown='ignore'))]), categorical_feats)\n",
        "])\n",
        "\n",
        "# 3) Build pipelines + param grids\n",
        "def make_pipe(clf):\n",
        "    return Pipeline([('prep',preprocessor),\n",
        "                     ('select',SelectKBest(f_classif,k=10)),\n",
        "                     ('clf',clf)])\n",
        "models = {\n",
        "    'logreg': (make_pipe(LogisticRegression(max_iter=1000)),\n",
        "               {'clf__C':[0.01,0.1,1,10]}),\n",
        "    'knn':    (make_pipe(KNeighborsClassifier()),\n",
        "               {'clf__n_neighbors':[3,5,7]}),\n",
        "    'svm':    (make_pipe(SVC()),\n",
        "               {'clf__C':[0.1,1,10],'clf__kernel':['linear','rbf']}),\n",
        "    'dt':     (make_pipe(DecisionTreeClassifier()),\n",
        "               {'clf__max_depth':[None,5,10]})\n",
        "}\n",
        "\n",
        "# 4) Train, tune, evaluate\n",
        "X_train, X_test, y_train, y_test = train_test_split(\n",
        "    X, y, test_size=0.2, random_state=42, stratify=y)\n",
        "\n",
        "best_models = {}\n",
        "for name,(pipe,params) in models.items():\n",
        "    print(f\"\\n▶️ {name}\")\n",
        "    g = GridSearchCV(pipe, params, cv=5, n_jobs=-1, scoring='accuracy')\n",
        "    g.fit(X_train, y_train)\n",
        "    y_pred = g.predict(X_test)\n",
        "    acc = accuracy_score(y_test, y_pred)\n",
        "    print(\" Best params:\", g.best_params_)\n",
        "    print(\" Test acc:  \", acc)\n",
        "    print(classification_report(y_test, y_pred))\n",
        "    cm = confusion_matrix(y_test, y_pred)\n",
        "    plt.figure(figsize=(4,3))\n",
        "    plt.imshow(cm, cmap='Blues')\n",
        "    plt.title(f\"{name} Confusion\")\n",
        "    plt.colorbar()\n",
        "    plt.xticks([],[])\n",
        "    plt.yticks([],[])\n",
        "    plt.show()\n",
        "    best_models[name] = (g.best_estimator_, acc)\n",
        "\n",
        "# 5) Identify & save best\n",
        "best_name, (best_model, best_acc) = max(best_models.items(), key=lambda x:x[1][1])\n",
        "print(f\"\\n🏆 Best: {best_name} ({best_acc:.3f})\")\n",
        "OUTDIR = '/content/drive/MyDrive/models/'  # or './models/'\n",
        "os.makedirs(OUTDIR, exist_ok=True)\n",
        "joblib.dump(best_model, os.path.join(OUTDIR, 'sleep_disorder_model.joblib'))\n",
        "print(\"Model saved to\", OUTDIR)\n"
      ],
      "metadata": {
        "id": "nJi8J_Tp2Y6I"
      },
      "execution_count": null,
      "outputs": []
    },
    {
      "cell_type": "code",
      "source": [
        "from sklearn.metrics import confusion_matrix, ConfusionMatrixDisplay\n",
        "\n",
        "# 1) Predict with the saved best model\n",
        "best_pred = best_model.predict(X_test)\n",
        "\n",
        "# 2) Compute the confusion matrix\n",
        "cm = confusion_matrix(y_test, best_pred)\n",
        "\n",
        "# 3) Plot it with class labels\n",
        "#    (If you want human-readable labels, make sure you saved your LabelEncoder:\n",
        "#      le = LabelEncoder(); y = le.fit_transform(df['Sleep Disorder'])\n",
        "#    )\n",
        "display_labels = le.classes_ if 'le' in globals() else None\n",
        "\n",
        "disp = ConfusionMatrixDisplay(confusion_matrix=cm,\n",
        "                              display_labels=display_labels)\n",
        "fig, ax = plt.subplots(figsize=(6,6))\n",
        "disp.plot(ax=ax, cmap='Blues', colorbar=True)\n",
        "plt.xticks(rotation=45)\n",
        "plt.title(f'{best_name} Confusion Matrix (acc={best_acc:.2f})')\n",
        "plt.tight_layout()\n",
        "plt.show()\n"
      ],
      "metadata": {
        "id": "n3v5iJy14u7k"
      },
      "execution_count": null,
      "outputs": []
    },
    {
      "cell_type": "code",
      "source": [],
      "metadata": {
        "id": "uiabpy1UFW62"
      },
      "execution_count": null,
      "outputs": []
    }
  ]
}
